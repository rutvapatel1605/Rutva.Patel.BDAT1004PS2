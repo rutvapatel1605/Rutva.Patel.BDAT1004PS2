{
 "cells": [
  {
   "cell_type": "markdown",
   "id": "f5a28d9a",
   "metadata": {},
   "source": [
    "# Question 1\n",
    "Consider the following Python module:\n",
    "\n",
    "a = 0\n",
    "\n",
    "def b():\n",
    "\n",
    "    global a\n",
    "    \n",
    "    a = c(a)\n",
    "     \n",
    "def c(a):\n",
    "\n",
    "     return a + 2\n",
    "     \n",
    "After importing the module into the interpreter, you execute:\n",
    "###### >>> b()\n",
    "###### >>> b()\n",
    "###### >>> b()\n",
    "###### >>> a\n",
    "?\n",
    "\n",
    "What value is displayed when the last expression (a) is evaluated? Explain your answer by indicating what happens in every executed statement"
   ]
  },
  {
   "cell_type": "code",
   "execution_count": 1,
   "id": "d4ee25b7",
   "metadata": {},
   "outputs": [],
   "source": [
    "#Initialize a global variable 'a' = 0\n",
    "a = 0\n",
    "\n",
    "#Defining the function\n",
    "def b():\n",
    "    global a    #declaring global variable\n",
    "    a = c(a)\n",
    "    \n",
    "def c(a):\n",
    "    return a + 2"
   ]
  },
  {
   "cell_type": "code",
   "execution_count": 2,
   "id": "8b42ecbc",
   "metadata": {},
   "outputs": [
    {
     "name": "stdout",
     "output_type": "stream",
     "text": [
      "None\n",
      "None\n",
      "None\n",
      "6\n"
     ]
    }
   ],
   "source": [
    "# Step 1: Call the function 'b' for the first time\n",
    "print(b())      # 'a' is initially 0, 'c(0)' returns 2, so 'a' is updated to 2\n",
    "\n",
    "# Step 2: Call the function 'b' for the second time\n",
    "print(b())      # 'a' is now 2, 'c(2)' returns 4, so 'a' is updated to 4\n",
    "\n",
    "# Step 3: Call the function 'b' for the third time\n",
    "print(b())      # 'a' is now 4, 'c(4)' returns 6, so 'a' is updated to 6\n",
    "\n",
    "# Step 4: Evaluate the expression 'a' (display the value of 'a')\n",
    "print(a)\n",
    "\n",
    "# Output: 6\n"
   ]
  },
  {
   "cell_type": "markdown",
   "id": "0a04cb5a",
   "metadata": {},
   "source": [
    "# Question 2\n",
    "Function fileLength(), given to you, takes the name of a file as input and returns the length of the file:\n",
    "###### >>> fileLength('midterm.py')\n",
    "284\n",
    "###### >>> fileLength('idterm.py')\n",
    "Traceback (most recent call last):\n",
    "File \"<pyshell#34>\", line 1, in <module>\n",
    "    \n",
    " fileLength('idterm.py')\n",
    "    \n",
    "File \"/Users/me/midterm.py\", line 3, in fileLength\n",
    " infile = open(filename)\n",
    "FileNotFoundError: [Errno 2] No such file or directory: \n",
    "'idterm.py'\n",
    "    \n",
    "As shown above, if the file cannot be found by the interpreter or if it cannot be read as a text file, an exception will be raised. Modify function fileLength() so that a friendly message is printed instead:\n",
    "    \n",
    "###### >>> fileLength('midterm.py')\n",
    "358\n",
    "###### >>> fileLength('idterm.py')\n",
    "File idterm.py not found."
   ]
  },
  {
   "cell_type": "code",
   "execution_count": 3,
   "id": "f887a302",
   "metadata": {},
   "outputs": [
    {
     "name": "stdout",
     "output_type": "stream",
     "text": [
      "123\n",
      "File idterm.py not found.\n"
     ]
    }
   ],
   "source": [
    "def fileLength(filename):\n",
    "    try:\n",
    "        with open(filename, 'r') as file:\n",
    "            contents = file.read()      # Read the contents of the file and store it in the 'contents' variable.\n",
    "            print(len(contents))        # Print the length of the contents\n",
    "    except FileNotFoundError:\n",
    "        # If the file is not found, handle the FileNotFoundError exception.\n",
    "        print(f\"File {filename} not found.\")\n",
    "    except:\n",
    "        # If any other exception occurs, handle it with a generic error message.\n",
    "        print(f\"An error occurred while reading {filename}.\")\n",
    "\n",
    "# Test cases\n",
    "fileLength('midterm.py')   # Testing with a file that exists\n",
    "fileLength('idterm.py')    # Testing with a file that doesn't exist"
   ]
  },
  {
   "cell_type": "markdown",
   "id": "aff0932d",
   "metadata": {},
   "source": [
    "# Question 3\n",
    "Write a class named Marsupial that can be used as shown below:\n",
    "###### >>> m = Marsupial()\n",
    "###### >>> m.put_in_pouch('doll')\n",
    "###### >>> m.put_in_pouch('firetruck')\n",
    "###### >>> m.put_in_pouch('kitten')\n",
    "###### >>> m.pouch_contents()\n",
    "['doll', 'firetruck', 'kitten']\n",
    "\n",
    "Now write a class named Kangaroo as a subclass of Marsupial that inherits all the attributes of Marsupial and also:\n",
    "\n",
    "a. extends the Marsupial __init__ constructor to take, as input, the \n",
    "coordinates x and y of the Kangaroo object\n",
    "\n",
    "b. supports method jump that takes number values dx and dy as input and \n",
    "moves the kangaroo by dx units along the x-axis and by dy units along the y-axis, and\n",
    "\n",
    "c. overloads the __str__ operator so it behaves as shown below.\n",
    "###### >>> k = Kangaroo(0,0)\n",
    "###### >>> print(k)\n",
    "I am a Kangaroo located at coordinates (0,0)\n",
    "###### >>> k.put_in_pouch('doll')\n",
    "###### >>> k.put_in_pouch('firetruck')\n",
    "###### >>> k.put_in_pouch('kitten')\n",
    "###### >>> k.pouch_contents()\n",
    "['doll', 'firetruck', 'kitten']\n",
    "###### >>> k.jump(1,0)\n",
    "###### >>> k.jump(1,0)\n",
    "###### >>> k.jump(1,0)\n",
    "###### >>> print(k)\n",
    "I am a Kangaroo located at coordinates (3,0)"
   ]
  },
  {
   "cell_type": "code",
   "execution_count": 4,
   "id": "f7f54ac0",
   "metadata": {},
   "outputs": [],
   "source": [
    "class Marsupial:\n",
    "    def __init__(self):\n",
    "        self.pouch = []      # Initialize an empty list 'pouch' as an instance variable.\n",
    "    \n",
    "    # Method to put an 'item' in the pouch.\n",
    "    def put_in_pouch(self,item):\n",
    "        self.pouch.append(item)\n",
    "    \n",
    "    # Method to get the contents of the pouch.\n",
    "    def pouch_contents(self):\n",
    "        return self.pouch\n",
    "\n",
    "# Define a subclass 'Kangaroo' that inherits from 'Marsupial'\n",
    "class Kangaroo(Marsupial):\n",
    "    def __init__(self, x=0, y=0):\n",
    "        # Call the constructor of the base class 'Marsupial'\n",
    "        super().__init__()\n",
    "        # Initialize 'x' and 'y' coordinates as instance variables.\n",
    "        self.x = x\n",
    "        self.y = y\n",
    "    \n",
    "    # Method for the Kangaroo to jump by adjusting 'x' and 'y' coordinates.\n",
    "    def jump(self, dx, dy):\n",
    "        self.x += dx\n",
    "        self.y += dy\n",
    "    \n",
    "    # Define a custom string representation for Kangaroo objects.\n",
    "    def __str__(self):\n",
    "        return f\"I am a Kangaroo located at coordinates ({self.x},{self.y})\"\n",
    "    "
   ]
  },
  {
   "cell_type": "code",
   "execution_count": 5,
   "id": "ff40a2fb",
   "metadata": {},
   "outputs": [
    {
     "name": "stdout",
     "output_type": "stream",
     "text": [
      "['doll', 'firetruch', 'kitten']\n"
     ]
    }
   ],
   "source": [
    "m = Marsupial()\n",
    "m.put_in_pouch('doll')\n",
    "m.put_in_pouch('firetruch')\n",
    "m.put_in_pouch('kitten')\n",
    "print(m.pouch_contents())"
   ]
  },
  {
   "cell_type": "code",
   "execution_count": 6,
   "id": "262b9056",
   "metadata": {},
   "outputs": [
    {
     "name": "stdout",
     "output_type": "stream",
     "text": [
      "I am a Kangaroo located at coordinates (0,0)\n"
     ]
    }
   ],
   "source": [
    "k = Kangaroo(0,0)\n",
    "print(k)"
   ]
  },
  {
   "cell_type": "code",
   "execution_count": 7,
   "id": "e3f14070",
   "metadata": {},
   "outputs": [
    {
     "name": "stdout",
     "output_type": "stream",
     "text": [
      "['doll', 'firetruch', 'kitten']\n"
     ]
    }
   ],
   "source": [
    "k.put_in_pouch('doll')\n",
    "k.put_in_pouch('firetruch')\n",
    "k.put_in_pouch('kitten')\n",
    "print(k.pouch_contents())"
   ]
  },
  {
   "cell_type": "code",
   "execution_count": 8,
   "id": "e82bb26e",
   "metadata": {},
   "outputs": [
    {
     "name": "stdout",
     "output_type": "stream",
     "text": [
      "I am a Kangaroo located at coordinates (3,0)\n"
     ]
    }
   ],
   "source": [
    "k.jump(1,0)\n",
    "k.jump(1,0)\n",
    "k.jump(1,0)\n",
    "print(k)"
   ]
  },
  {
   "cell_type": "markdown",
   "id": "f9e864a1",
   "metadata": {},
   "source": [
    "# Question 4\n",
    "Write function collatz() that takes a positive integer x as input and prints the Collatz sequence starting at x. A Collatz sequence is obtained by repeatedly applying this rule to the previous number x in the sequence:\n",
    "\n",
    "x = {𝑥/2 𝑖𝑓 𝑥 𝑖𝑠 𝑒𝑣𝑒𝑛\n",
    "     3𝑥 + 1 𝑖𝑓 𝑥 𝑖𝑠 𝑜𝑑𝑑\n",
    "     \n",
    "Your function should stop when the sequence gets to number 1. Your implementation must be recursive, without any loops\n",
    "###### >>> collatz(1)\n",
    "1\n",
    "###### >>> collatz(10)\n",
    "10\n",
    "5\n",
    "16\n",
    "8\n",
    "4\n",
    "2\n",
    "1"
   ]
  },
  {
   "cell_type": "code",
   "execution_count": 9,
   "id": "9fb76167",
   "metadata": {},
   "outputs": [],
   "source": [
    "def collatz(x):\n",
    "    print(x)\n",
    "    if x == 1:      # Check if 'x' has reached the base case, which is when it equals 1.\n",
    "        return\n",
    "    if x % 2 == 0:       # If 'x' is even (divisible by 2), make a recursive call with 'x' divided by 2.\n",
    "        collatz(x // 2)\n",
    "    else:                # If 'x' is odd, make a recursive call with '3x + 1'. \n",
    "        collatz(3 * x + 1)"
   ]
  },
  {
   "cell_type": "code",
   "execution_count": 10,
   "id": "9a75682c",
   "metadata": {},
   "outputs": [
    {
     "name": "stdout",
     "output_type": "stream",
     "text": [
      "1\n"
     ]
    }
   ],
   "source": [
    "collatz(1)"
   ]
  },
  {
   "cell_type": "code",
   "execution_count": 11,
   "id": "3249e692",
   "metadata": {},
   "outputs": [
    {
     "name": "stdout",
     "output_type": "stream",
     "text": [
      "10\n",
      "5\n",
      "16\n",
      "8\n",
      "4\n",
      "2\n",
      "1\n"
     ]
    }
   ],
   "source": [
    "collatz(10)"
   ]
  },
  {
   "cell_type": "markdown",
   "id": "4cff6684",
   "metadata": {},
   "source": [
    "# Question 5\n",
    "Write a recursive method binary() that takes a non-negative \n",
    "integer n and prints the binary representation of integer n.\n",
    "###### >>> binary(0)\n",
    "0\n",
    "###### >>> binary(1)\n",
    "1\n",
    "###### >>> binary(3)\n",
    "11\n",
    "###### >>> binary(9)\n",
    "1001"
   ]
  },
  {
   "cell_type": "code",
   "execution_count": 12,
   "id": "6151130c",
   "metadata": {},
   "outputs": [],
   "source": [
    "def binary(n):\n",
    "    # Check if 'n' is greater than 1, which is the base case for binary conversion.\n",
    "    if n>1:\n",
    "        # If 'n' is greater than 1, make a recursive call with 'n' divided by 2.\n",
    "        binary(n//2)\n",
    "    print(n%2,end='')       # Print the remainder of 'n' when divided by 2 "
   ]
  },
  {
   "cell_type": "code",
   "execution_count": 13,
   "id": "dbb53a9f",
   "metadata": {},
   "outputs": [
    {
     "name": "stdout",
     "output_type": "stream",
     "text": [
      "0\n",
      "1\n",
      "11\n",
      "1001"
     ]
    }
   ],
   "source": [
    "binary(0)\n",
    "print()\n",
    "binary(1)\n",
    "print()\n",
    "binary(3)\n",
    "print()\n",
    "binary(9)"
   ]
  },
  {
   "cell_type": "markdown",
   "id": "f599d80a",
   "metadata": {},
   "source": [
    "# Question 6\n",
    "Implement a class named HeadingParser that can be used to parse an HTML \n",
    "document, and retrieve and print all the headings in the document. You should \n",
    "implement your class as a subclass of HTMLParser, defined in Standard Library \n",
    "module html.parser. When fed a string containing HTML code, your class should \n",
    "print the headings, one per line and in the order in which they appear in the \n",
    "document. Each heading should be indented as follows: an h1 heading should have indentation 0, and h2 heading should have indentation 1, etc. Test your \n",
    "implementation using w3c.html.\n",
    "\n",
    "###### >>> infile = open('w3c.html')\n",
    "###### >>> content = infile.read()\n",
    "###### >>> infile.close()\n",
    "###### >>> hp = HeadingParser()\n",
    "###### >>> hp.feed(content)\n",
    "W3C Mission\n",
    "Principles\n"
   ]
  },
  {
   "cell_type": "code",
   "execution_count": 14,
   "id": "56cf025b",
   "metadata": {},
   "outputs": [
    {
     "name": "stdout",
     "output_type": "stream",
     "text": [
      "W3C Mission\n",
      "Principles\n"
     ]
    }
   ],
   "source": [
    "from html.parser import HTMLParser\n",
    "\n",
    "# Define a custom parser class 'HeadingParser' that inherits from HTMLParser\n",
    "class HeadingParser(HTMLParser):\n",
    "    def __init__(self):\n",
    "        super().__init__()\n",
    "        self.in_heading = False    # Initialize a flag to track if we are inside a heading tag\n",
    "\n",
    "    # Method to handle the start of an HTML tag\n",
    "    def handle_starttag(self, tag, attrs):\n",
    "        # Check if the tag is a heading tag \n",
    "        if tag.startswith(\"h\") and tag[1:].isdigit():\n",
    "            self.in_heading = True    # Set the flag to True to indicate that we are inside a heading tag\n",
    "    \n",
    "    # Method to handle the end of an HTML tag\n",
    "    def handle_endtag(self, tag):\n",
    "        # Check if we are inside a heading tag and the current tag is a closing heading tag\n",
    "        if self.in_heading and tag.startswith(\"h\") and tag[1:].isdigit():\n",
    "            self.in_heading = False   # Set the flag to False to indicate that we are no longer inside a heading tag\n",
    "    \n",
    "    # Method to handle text data within HTML tags\n",
    "    def handle_data(self, data):\n",
    "        if self.in_heading:\n",
    "            print(data)     # Print the text data if we are inside a heading tag\n",
    "\n",
    "infile = open('w3c.html')\n",
    "content = infile.read()\n",
    "infile.close()\n",
    "\n",
    "hp = HeadingParser()\n",
    "hp.feed(content)\n"
   ]
  },
  {
   "cell_type": "markdown",
   "id": "f8039110",
   "metadata": {},
   "source": [
    "# Question 7\n",
    "\n",
    "Implement recursive function webdir() that takes as input: a URL (as a string) and non-negative integers depth and indent. Your function should visit every web page reachable from the starting URL web page in depth clicks or less, and print each web page's URL. As shown below, indentation, specified by indent, should be used to indicate the depth of a URL.\n",
    "\n",
    "###### >>> webdir('http://reed.cs.depaul.edu/lperkovic/csc242/test1.html', 2, 0)\n",
    "\n",
    "http://reed.cs.depaul.edu/lperkovic/csc242/test1.html\n",
    "http://reed.cs.depaul.edu/lperkovic/csc242/test2.html\n",
    "http://reed.cs.depaul.edu/lperkovic/csc242/test4.html\n",
    "http://reed.cs.depaul.edu/lperkovic/csc242/test3.html\n",
    "http://reed.cs.depaul.edu/lperkovic/csc242/test4.html\n"
   ]
  },
  {
   "cell_type": "code",
   "execution_count": 15,
   "id": "caf8ae06",
   "metadata": {},
   "outputs": [
    {
     "name": "stdout",
     "output_type": "stream",
     "text": [
      "Error accessing http://reed.cs.depaul.edu/lperkovic/csc242/test1.html: 404 Client Error:  for url: http://reed.cs.depaul.edu/lperkovic/csc242/test1.html\n"
     ]
    }
   ],
   "source": [
    "import requests\n",
    "from bs4 import BeautifulSoup\n",
    "\n",
    "def webdir(url, depth, indent=0):\n",
    "    if depth < 0:\n",
    "        return\n",
    "\n",
    "    try:\n",
    "        response = requests.get(url)\n",
    "        response.raise_for_status()\n",
    "        soup = BeautifulSoup(response.text, 'html.parser')\n",
    "        print(' ' * indent + url)\n",
    "\n",
    "        # Extract all anchor tags\n",
    "        if depth > 0: #for positive depth\n",
    "            links = soup.find_all('a') # Find and store all Anchor Tags into links\n",
    "            for link in links:\n",
    "                href = link.get('href') #retrive href value\n",
    "                if href and href.startswith('http'): #condition checking for http \n",
    "                    webdir(href, depth - 1, indent + 2)\n",
    "\n",
    "    except requests.exceptions.RequestException as e:\n",
    "        # Handle request exceptions, e.g., invalid URLs\n",
    "        print(\" \" * indent + f\"Error accessing {url}: {e}\")\n",
    "\n",
    "webdir('http://reed.cs.depaul.edu/lperkovic/csc242/test1.html', 2, 0)\n"
   ]
  },
  {
   "cell_type": "markdown",
   "id": "43dddd75",
   "metadata": {},
   "source": [
    "# Question 8\n",
    "Write SQL queries on the below database table that return: \n",
    "\n",
    "a) All the temperature data.\n",
    "\n",
    "b) All the cities, but without repetition.\n",
    "\n",
    "c) All the records for India.\n",
    "\n",
    "d) All the Fall records.\n",
    "\n",
    "e) The city, country, and season for which the average rainfall is between 200 and 400 millimeters.\n",
    "\n",
    "f) The city and country for which the average Fall temperature is above 20 \n",
    "degrees, in increasing temperature order.\n",
    "\n",
    "g) The total annual rainfall for Cairo.\n",
    "\n",
    "h) The total rainfall for each season.City Country Season Temperature(C) Rainfall (mm)\n",
    "\n"
   ]
  },
  {
   "cell_type": "code",
   "execution_count": 16,
   "id": "83f3c9c7",
   "metadata": {},
   "outputs": [],
   "source": [
    "%load_ext sql\n",
    "%sql sqlite://\n"
   ]
  },
  {
   "cell_type": "code",
   "execution_count": 17,
   "id": "cdf672b0",
   "metadata": {},
   "outputs": [
    {
     "name": "stdout",
     "output_type": "stream",
     "text": [
      " * sqlite://\n",
      "Done.\n"
     ]
    },
    {
     "data": {
      "text/plain": [
       "[]"
      ]
     },
     "execution_count": 17,
     "metadata": {},
     "output_type": "execute_result"
    }
   ],
   "source": [
    "%%sql \n",
    "CREATE TABLE IF NOT EXISTS weather (\n",
    "    City TEXT,\n",
    "    Country TEXT,\n",
    "    Season TEXT,\n",
    "    Temperature REAL,\n",
    "    Rainfall REAL\n",
    ");"
   ]
  },
  {
   "cell_type": "code",
   "execution_count": 18,
   "id": "76f7265c",
   "metadata": {},
   "outputs": [
    {
     "name": "stdout",
     "output_type": "stream",
     "text": [
      " * sqlite://\n",
      "12 rows affected.\n"
     ]
    },
    {
     "data": {
      "text/plain": [
       "[]"
      ]
     },
     "execution_count": 18,
     "metadata": {},
     "output_type": "execute_result"
    }
   ],
   "source": [
    "%%sql\n",
    "INSERT INTO weather (City, Country, Season, Temperature, Rainfall)\n",
    "VALUES\n",
    "    ('Mumbai', 'India', 'Winter', 24.8, 5.9),\n",
    "    ('Mumbai', 'India', 'Spring', 28.4, 16.2),\n",
    "    ('Mumbai', 'India', 'Summer', 27.9, 1549.4),\n",
    "    ('Mumbai', 'India', 'Fall', 27.6, 346.0),\n",
    "    ('London', 'United Kingdom', 'Winter', 4.2, 207.7),\n",
    "    ('London', 'United Kingdom', 'Spring', 8.3, 169.6),\n",
    "    ('London', 'United Kingdom', 'Summer', 15.7, 157.0),\n",
    "    ('London', 'United Kingdom', 'Fall', 10.4, 218.5),\n",
    "    ('Cairo', 'Egypt', 'Winter', 13.6, 16.5),\n",
    "    ('Cairo', 'Egypt', 'Spring', 20.7, 6.5),\n",
    "    ('Cairo', 'Egypt', 'Summer', 27.7, 0.1),\n",
    "    ('Cairo', 'Egypt', 'Fall', 22.2, 4.5);"
   ]
  },
  {
   "cell_type": "code",
   "execution_count": 19,
   "id": "990636c4",
   "metadata": {},
   "outputs": [
    {
     "name": "stdout",
     "output_type": "stream",
     "text": [
      " * sqlite://\n",
      "Done.\n"
     ]
    },
    {
     "data": {
      "text/html": [
       "<table>\n",
       "    <thead>\n",
       "        <tr>\n",
       "            <th>City</th>\n",
       "            <th>Country</th>\n",
       "            <th>Season</th>\n",
       "            <th>Temperature</th>\n",
       "            <th>Rainfall</th>\n",
       "        </tr>\n",
       "    </thead>\n",
       "    <tbody>\n",
       "        <tr>\n",
       "            <td>Mumbai</td>\n",
       "            <td>India</td>\n",
       "            <td>Winter</td>\n",
       "            <td>24.8</td>\n",
       "            <td>5.9</td>\n",
       "        </tr>\n",
       "        <tr>\n",
       "            <td>Mumbai</td>\n",
       "            <td>India</td>\n",
       "            <td>Spring</td>\n",
       "            <td>28.4</td>\n",
       "            <td>16.2</td>\n",
       "        </tr>\n",
       "        <tr>\n",
       "            <td>Mumbai</td>\n",
       "            <td>India</td>\n",
       "            <td>Summer</td>\n",
       "            <td>27.9</td>\n",
       "            <td>1549.4</td>\n",
       "        </tr>\n",
       "        <tr>\n",
       "            <td>Mumbai</td>\n",
       "            <td>India</td>\n",
       "            <td>Fall</td>\n",
       "            <td>27.6</td>\n",
       "            <td>346.0</td>\n",
       "        </tr>\n",
       "        <tr>\n",
       "            <td>London</td>\n",
       "            <td>United Kingdom</td>\n",
       "            <td>Winter</td>\n",
       "            <td>4.2</td>\n",
       "            <td>207.7</td>\n",
       "        </tr>\n",
       "        <tr>\n",
       "            <td>London</td>\n",
       "            <td>United Kingdom</td>\n",
       "            <td>Spring</td>\n",
       "            <td>8.3</td>\n",
       "            <td>169.6</td>\n",
       "        </tr>\n",
       "        <tr>\n",
       "            <td>London</td>\n",
       "            <td>United Kingdom</td>\n",
       "            <td>Summer</td>\n",
       "            <td>15.7</td>\n",
       "            <td>157.0</td>\n",
       "        </tr>\n",
       "        <tr>\n",
       "            <td>London</td>\n",
       "            <td>United Kingdom</td>\n",
       "            <td>Fall</td>\n",
       "            <td>10.4</td>\n",
       "            <td>218.5</td>\n",
       "        </tr>\n",
       "        <tr>\n",
       "            <td>Cairo</td>\n",
       "            <td>Egypt</td>\n",
       "            <td>Winter</td>\n",
       "            <td>13.6</td>\n",
       "            <td>16.5</td>\n",
       "        </tr>\n",
       "        <tr>\n",
       "            <td>Cairo</td>\n",
       "            <td>Egypt</td>\n",
       "            <td>Spring</td>\n",
       "            <td>20.7</td>\n",
       "            <td>6.5</td>\n",
       "        </tr>\n",
       "        <tr>\n",
       "            <td>Cairo</td>\n",
       "            <td>Egypt</td>\n",
       "            <td>Summer</td>\n",
       "            <td>27.7</td>\n",
       "            <td>0.1</td>\n",
       "        </tr>\n",
       "        <tr>\n",
       "            <td>Cairo</td>\n",
       "            <td>Egypt</td>\n",
       "            <td>Fall</td>\n",
       "            <td>22.2</td>\n",
       "            <td>4.5</td>\n",
       "        </tr>\n",
       "    </tbody>\n",
       "</table>"
      ],
      "text/plain": [
       "[('Mumbai', 'India', 'Winter', 24.8, 5.9),\n",
       " ('Mumbai', 'India', 'Spring', 28.4, 16.2),\n",
       " ('Mumbai', 'India', 'Summer', 27.9, 1549.4),\n",
       " ('Mumbai', 'India', 'Fall', 27.6, 346.0),\n",
       " ('London', 'United Kingdom', 'Winter', 4.2, 207.7),\n",
       " ('London', 'United Kingdom', 'Spring', 8.3, 169.6),\n",
       " ('London', 'United Kingdom', 'Summer', 15.7, 157.0),\n",
       " ('London', 'United Kingdom', 'Fall', 10.4, 218.5),\n",
       " ('Cairo', 'Egypt', 'Winter', 13.6, 16.5),\n",
       " ('Cairo', 'Egypt', 'Spring', 20.7, 6.5),\n",
       " ('Cairo', 'Egypt', 'Summer', 27.7, 0.1),\n",
       " ('Cairo', 'Egypt', 'Fall', 22.2, 4.5)]"
      ]
     },
     "execution_count": 19,
     "metadata": {},
     "output_type": "execute_result"
    }
   ],
   "source": [
    "%%sql\n",
    "SELECT * FROM weather"
   ]
  },
  {
   "cell_type": "code",
   "execution_count": 20,
   "id": "02f051b5",
   "metadata": {},
   "outputs": [
    {
     "name": "stdout",
     "output_type": "stream",
     "text": [
      "Temperature Data Information\n",
      " * sqlite://\n",
      "Done.\n",
      "+-------------+\n",
      "| Temperature |\n",
      "+-------------+\n",
      "|     24.8    |\n",
      "|     28.4    |\n",
      "|     27.9    |\n",
      "|     27.6    |\n",
      "|     4.2     |\n",
      "|     8.3     |\n",
      "|     15.7    |\n",
      "|     10.4    |\n",
      "|     13.6    |\n",
      "|     20.7    |\n",
      "|     27.7    |\n",
      "|     22.2    |\n",
      "+-------------+\n",
      "Information of All the Cities without repetition\n",
      " * sqlite://\n",
      "Done.\n",
      "+--------+\n",
      "|  City  |\n",
      "+--------+\n",
      "| Mumbai |\n",
      "| London |\n",
      "| Cairo  |\n",
      "+--------+\n",
      "Information of India\n",
      " * sqlite://\n",
      "Done.\n",
      "+--------+---------+--------+-------------+----------+\n",
      "|  City  | Country | Season | Temperature | Rainfall |\n",
      "+--------+---------+--------+-------------+----------+\n",
      "| Mumbai |  India  | Winter |     24.8    |   5.9    |\n",
      "| Mumbai |  India  | Spring |     28.4    |   16.2   |\n",
      "| Mumbai |  India  | Summer |     27.9    |  1549.4  |\n",
      "| Mumbai |  India  |  Fall  |     27.6    |  346.0   |\n",
      "+--------+---------+--------+-------------+----------+\n",
      "Information of Fall\n",
      " * sqlite://\n",
      "Done.\n",
      "+--------+----------------+--------+-------------+----------+\n",
      "|  City  |    Country     | Season | Temperature | Rainfall |\n",
      "+--------+----------------+--------+-------------+----------+\n",
      "| Mumbai |     India      |  Fall  |     27.6    |  346.0   |\n",
      "| London | United Kingdom |  Fall  |     10.4    |  218.5   |\n",
      "| Cairo  |     Egypt      |  Fall  |     22.2    |   4.5    |\n",
      "+--------+----------------+--------+-------------+----------+\n",
      "The city, country, and season for which the average rainfall is between 200 and 400 millimeters\n",
      " * sqlite://\n",
      "Done.\n",
      "+--------+----------------+--------+\n",
      "|  City  |    Country     | Season |\n",
      "+--------+----------------+--------+\n",
      "| London | United Kingdom |  Fall  |\n",
      "| London | United Kingdom | Winter |\n",
      "| Mumbai |     India      |  Fall  |\n",
      "+--------+----------------+--------+\n",
      " The city and country for which the average Fall temperature is above 20 degrees, in increasing temperature order\n",
      " * sqlite://\n",
      "Done.\n",
      "+--------+----------------+--------+\n",
      "|  City  |    Country     | Season |\n",
      "+--------+----------------+--------+\n",
      "| London | United Kingdom |  Fall  |\n",
      "| London | United Kingdom | Winter |\n",
      "| Mumbai |     India      |  Fall  |\n",
      "+--------+----------------+--------+\n",
      "The total annual rainfall for Cairo\n",
      " * sqlite://\n",
      "Done.\n",
      "+-------+-----------------------+\n",
      "|  City | Total_Annual_Rainfall |\n",
      "+-------+-----------------------+\n",
      "| Cairo |          27.6         |\n",
      "+-------+-----------------------+\n",
      "The total rainfall for each season\n",
      " * sqlite://\n",
      "Done.\n",
      "+--------+--------------------+\n",
      "| Season |   Total_Rainfall   |\n",
      "+--------+--------------------+\n",
      "|  Fall  |       569.0        |\n",
      "| Spring | 192.29999999999998 |\n",
      "| Summer |       1706.5       |\n",
      "| Winter |       230.1        |\n",
      "+--------+--------------------+\n"
     ]
    }
   ],
   "source": [
    "# a) All the temperature data.\n",
    "print(\"Temperature Data Information\")\n",
    "Temperature = %sql SELECT Temperature FROM weather\n",
    "print(Temperature)\n",
    "\n",
    "# b) All the cities, but without repetition.\n",
    "print(\"Information of All the Cities without repetition\")\n",
    "City = %sql SELECT DISTINCT City FROM weather\n",
    "print(City)\n",
    "\n",
    "# c) All the records for India.\n",
    "print(\"Information of India\")\n",
    "India_Details = %sql SELECT * FROM weather WHERE Country = 'India'\n",
    "print(India_Details)\n",
    "\n",
    "# d) All the Fall records\n",
    "print(\"Information of Fall\")\n",
    "Fall_Season_Info = %sql SELECT * FROM weather WHERE Season = 'Fall'\n",
    "print(Fall_Season_Info)\n",
    "\n",
    "# e) The city, country, and season for which the average rainfall is between 200 and 400 millimeters.\n",
    "print(\"The city, country, and season for which the average rainfall is between 200 and 400 millimeters\")\n",
    "Avg_RainFall = %sql SELECT City, Country, Season FROM weather GROUP BY City, Country, Season HAVING AVG(Rainfall) BETWEEN 200 AND 400\n",
    "print(Avg_RainFall)\n",
    "\n",
    "# f) The city and country for which the average Fall temperature is above 20 degrees, in increasing temperature order.\n",
    "print(\" The city and country for which the average Fall temperature is above 20 degrees, in increasing temperature order\")\n",
    "Avg_Temprature = %sql SELECT City, Country, Season FROM weather GROUP BY City, Country, Season HAVING AVG(Rainfall) BETWEEN 200 AND 400\n",
    "print(Avg_Temprature)\n",
    "\n",
    "# g) The total annual rainfall for Cairo.\n",
    "print(\"The total annual rainfall for Cairo\")\n",
    "Annual_Rainfall = %sql SELECT City, SUM(Rainfall) AS Total_Annual_Rainfall FROM weather WHERE City = 'Cairo' GROUP BY City\n",
    "print(Annual_Rainfall)\n",
    "\n",
    "# h) The total rainfall for each season.\n",
    "print(\"The total rainfall for each season\")\n",
    "Total_Rainfall = %sql SELECT Season, SUM(Rainfall) AS Total_Rainfall FROM weather GROUP BY Season\n",
    "print(Total_Rainfall)"
   ]
  },
  {
   "cell_type": "markdown",
   "id": "73c4b34e",
   "metadata": {},
   "source": [
    "# Question 9\n",
    "Suppose list words is defined as follows:\n",
    "\n",
    "###### >>> words = ['The', 'quick', 'brown', 'fox', 'jumps', 'over', 'the', 'lazy', 'dog']\n",
    "\n",
    "Write list comprehension expressions that use list words and generate the following lists:\n",
    "\n",
    "a) ['THE', 'QUICK', 'BROWN', 'FOX', 'JUMPS', 'OVER', 'THE', 'LAZY', 'DOG']\n",
    "\n",
    "b) ['the', 'quick', 'brown', 'fox', 'jumps', 'over', 'the', 'lazy', 'dog']\n",
    "\n",
    "c) [3, 5, 5, 3, 5, 4, 3, 4, 3] (the list of lengths of words in list \n",
    "words).\n",
    "\n",
    "d) [['THE', 'the', 3], ['QUICK', 'quick', 5], ['BROWN','brown', 5], ['FOX', 'fox', 3], ['JUMPS', 'jumps', 5], ['OVER', 'over', 4], ['THE', 'the', 3], ['LAZY', 'lazy', 4], ['DOG', 'dog', 3]] (the list containing a list for every word of list words, where each list contains the word in uppercase and lowercase and the length of the word.)\n",
    "\n",
    "e) ['The', 'quick', 'brown', 'fox', 'jumps', 'over', 'the', 'lazy', 'dog'] (the list of words in list words containing 4 or more \n",
    "characters.)"
   ]
  },
  {
   "cell_type": "code",
   "execution_count": 21,
   "id": "67ce532c",
   "metadata": {},
   "outputs": [
    {
     "name": "stdout",
     "output_type": "stream",
     "text": [
      "['THE', 'QUICK', 'BROWN', 'FOX', 'JUMPS', 'OVER', 'THE', 'LAZY', 'DOG']\n",
      "\n",
      "['the', 'quick', 'brown', 'fox', 'jumps', 'over', 'the', 'lazy', 'dog']\n",
      "\n",
      "[3, 5, 5, 3, 5, 4, 3, 4, 3]\n",
      "\n",
      "[['THE', 'the', 3], ['QUICK', 'quick', 5], ['BROWN', 'brown', 5], ['FOX', 'fox', 3], ['JUMPS', 'jumps', 5], ['OVER', 'over', 4], ['THE', 'the', 3], ['LAZY', 'lazy', 4], ['DOG', 'dog', 3]]\n",
      "\n",
      "['quick', 'brown', 'jumps', 'over', 'lazy']\n"
     ]
    }
   ],
   "source": [
    "words = ['The', 'quick', 'brown', 'fox', 'jumps', 'over', 'the', 'lazy', 'dog']\n",
    "\n",
    "#Words in Uppercase\n",
    "Uppercase_Words = [word.upper() for word in words]\n",
    "\n",
    "#Words in Lowercase\n",
    "Lowercase_Words = [word.lower() for word in words]\n",
    "\n",
    "#Length of words\n",
    "Length_of_Words = [len(word) for word in words]\n",
    "\n",
    "#List of information with Uppercase, Lowercase and Word Length\n",
    "Word_Info = [[word.upper(), word.lower(), len(word)] for word in words]\n",
    "\n",
    "#Words with 4 or more characters\n",
    "Long_Words = [word for word in words if len(word) >= 4]\n",
    "\n",
    "print(Uppercase_Words)\n",
    "print()\n",
    "print(Lowercase_Words)\n",
    "print()\n",
    "print(Length_of_Words)\n",
    "print()\n",
    "print(Word_Info)\n",
    "print()\n",
    "print(Long_Words)"
   ]
  }
 ],
 "metadata": {
  "kernelspec": {
   "display_name": "Python 3 (ipykernel)",
   "language": "python",
   "name": "python3"
  },
  "language_info": {
   "codemirror_mode": {
    "name": "ipython",
    "version": 3
   },
   "file_extension": ".py",
   "mimetype": "text/x-python",
   "name": "python",
   "nbconvert_exporter": "python",
   "pygments_lexer": "ipython3",
   "version": "3.11.4"
  }
 },
 "nbformat": 4,
 "nbformat_minor": 5
}
